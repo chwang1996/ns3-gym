{
 "cells": [
  {
   "cell_type": "code",
   "execution_count": 1,
   "metadata": {},
   "outputs": [],
   "source": [
    "import numpy as np\n",
    "from ns3gym import ns3env\n",
    "from DQN_model import DeepQNetwork\n",
    "from DQN_model import Eval_Model\n",
    "from DQN_model import Target_Model\n",
    "import tensorflow as tf\n",
    "\n",
    "import matplotlib.pyplot as plt"
   ]
  },
  {
   "cell_type": "code",
   "execution_count": 2,
   "metadata": {},
   "outputs": [],
   "source": [
    "learning_rate = 0.01\n",
    "reward_decay = 0.9\n",
    "e_greedy = 0.9\n",
    "replace_target_iter = 100\n",
    "memory_size = 500\n",
    "batch_size = 32\n",
    "training_episodes = 30\n",
    "testing_episodes = 10\n",
    "max_chosen = 3\n",
    "training_repeat_chosen = []\n",
    "testing_repeat_chosen = []\n",
    "episode_time = 300"
   ]
  },
  {
   "cell_type": "code",
   "execution_count": 3,
   "metadata": {},
   "outputs": [],
   "source": [
    "eval_model = Eval_Model(num_actions=32)\n",
    "target_model = Target_Model(num_actions=32)\n",
    "RL = DeepQNetwork(32, 3, 32,\n",
    "                  eval_model, target_model, learning_rate, reward_decay, e_greedy, \n",
    "                  replace_target_iter, memory_size, batch_size)"
   ]
  },
  {
   "cell_type": "code",
   "execution_count": null,
   "metadata": {},
   "outputs": [
    {
     "name": "stdout",
     "output_type": "stream",
     "text": [
      "-----------------------episodes:  0  -----------------------\n"
     ]
    }
   ],
   "source": [
    "for episode in range(training_episodes):\n",
    "    print (\"-----------------------episodes: \", episode, \" -----------------------\")\n",
    "    stepIdx = 0\n",
    "    repeat_chosen_counter = 0\n",
    "    \n",
    "    _obs = np.zeros(32,dtype=int)\n",
    "    \n",
    "    \n",
    "    \n",
    "    while True:\n",
    "        #print (\"\\nstepIdx:\",stepIdx)\n",
    "        stepIdx += 1\n",
    "        reward_all = []\n",
    "        \n",
    "        action = np.array(RL.choose_action(_obs, True))\n",
    "\n",
    "        \n",
    "        # Using the queuing bytes to decide how many data slot would be choose\n",
    "        #action_num = 0 if queueBytes == 0 else min(max(0, int(queueBytes/6250 - 0.3)) + 1, 3)\n",
    "        #action_num = 2\n",
    "        #action[action_num:] = [-1] * (max_chosen-action_num)\n",
    "        action = action[:-1]\n",
    "        \n",
    "        #print(\"action: \",action)\n",
    "        \n",
    "        obs = _obs\n",
    "        for a in action:\n",
    "            if obs[a] != 0:\n",
    "                reward_all.append(-100)\n",
    "            else:\n",
    "                obs[a] = -1\n",
    "                reward_all.append(0)\n",
    "        \n",
    "        #print (\"obs: \",obs)\n",
    "        #print (\"reward:\", reward_all)\n",
    "        \n",
    "        \n",
    "        for act, r in zip(action,reward_all):\n",
    "                \n",
    "            RL.store_transition(_obs, act, r, obs)\n",
    "            \n",
    "            if r <= -100:\n",
    "                repeat_chosen_counter += 1\n",
    "\n",
    "                \n",
    "        if stepIdx % 16 == 0:\n",
    "            obs = np.zeros(32,dtype=int)\n",
    "        \n",
    "        if stepIdx % 100 == 0:\n",
    "            print (\"stepIdx: \",stepIdx)\n",
    "        \n",
    "        if (stepIdx > 5000) and (stepIdx % 5 == 0):\n",
    "            RL.learn()\n",
    "            \n",
    "        # swap observation\n",
    "        _obs = obs\n",
    "        \n",
    "        \n",
    "        if stepIdx == 12000:\n",
    "            print(\"Step: \", stepIdx)\n",
    "            print (\"done\")\n",
    "            print (\"Repeat_chosen_counter :\", repeat_chosen_counter)\n",
    "            RL.learn()\n",
    "            \n",
    "            training_repeat_chosen.append(repeat_chosen_counter)\n",
    "            break\n",
    "            \n",
    "        #break\n",
    "        \n"
   ]
  },
  {
   "cell_type": "code",
   "execution_count": null,
   "metadata": {},
   "outputs": [],
   "source": []
  },
  {
   "cell_type": "code",
   "execution_count": null,
   "metadata": {},
   "outputs": [],
   "source": []
  },
  {
   "cell_type": "code",
   "execution_count": null,
   "metadata": {},
   "outputs": [],
   "source": []
  }
 ],
 "metadata": {
  "kernelspec": {
   "display_name": "Python 3",
   "language": "python",
   "name": "python3"
  },
  "language_info": {
   "codemirror_mode": {
    "name": "ipython",
    "version": 3
   },
   "file_extension": ".py",
   "mimetype": "text/x-python",
   "name": "python",
   "nbconvert_exporter": "python",
   "pygments_lexer": "ipython3",
   "version": "3.6.9"
  }
 },
 "nbformat": 4,
 "nbformat_minor": 2
}
