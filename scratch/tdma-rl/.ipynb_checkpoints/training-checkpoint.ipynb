{
 "cells": [
  {
   "cell_type": "code",
   "execution_count": 9,
   "metadata": {},
   "outputs": [],
   "source": [
    "#!/usr/bin/env python3\n",
    "# -*- coding: utf-8 -*-\n",
    "\n",
    "import gym\n",
    "import argparse\n",
    "import numpy as np\n",
    "from ns3gym import ns3env\n",
    "from DQN_model import DeepQNetwork\n",
    "from DQN_model import Eval_Model\n",
    "from DQN_model import Target_Model\n",
    "import tensorflow as tf\n",
    "\n",
    "import matplotlib.pyplot as plt"
   ]
  },
  {
   "cell_type": "code",
   "execution_count": 10,
   "metadata": {},
   "outputs": [],
   "source": [
    "learning_rate = 0.01\n",
    "reward_decay = 0.9\n",
    "e_greedy = 0.9\n",
    "replace_target_iter = 100\n",
    "memory_size = 500\n",
    "batch_size = 32\n",
    "training_episodes = 50\n",
    "max_choice = 3\n",
    "optimized_choice = []\n",
    "throughput_list = []\n",
    "throughput_history = []\n",
    "delay_list = []\n",
    "delay_history = []\n",
    "\n",
    "max_throughput = 25*576*20\n",
    "episode_time = 600\n",
    "eval_model_weights_path = ''#'/workspace/model/eval_model_weights'\n",
    "target_model_weights_path = ''#'/workspace/model/target_model_weights'\n"
   ]
  },
  {
   "cell_type": "code",
   "execution_count": 11,
   "metadata": {},
   "outputs": [
    {
     "name": "stdout",
     "output_type": "stream",
     "text": [
      "Got new port for ns3gm interface:  8348\n",
      "Start command:  /tf/ns3-gym/waf --run \"tdma-rl --openGymPort=8348 --simSeed=3873858914\"\n",
      "Started ns3 simulation script, Process Id:  4158\n",
      "Observation space:  Dict(pktBytes:Box(4,), slotUsedTable:Box(32,)) None\n",
      "Action space:  Box(32,) int64\n",
      "n_action:  32\n"
     ]
    }
   ],
   "source": [
    "#env = gym.make('ns3-v0')\n",
    "env = ns3env.Ns3Env(debug=True)\n",
    "\n",
    "#env.reset()\n",
    "\n",
    "ob_space = env.observation_space\n",
    "ac_space = env.action_space\n",
    "ob_space_n = ob_space['slotUsedTable'].shape[0] + ob_space['pktBytes'].shape[0] - 1\n",
    "n_slotUsedTable = ob_space['slotUsedTable'].shape[0]\n",
    "\n",
    "\n",
    "print(\"Observation space: \", ob_space,  ob_space.dtype)\n",
    "print(\"Action space: \", ac_space, ac_space.dtype)\n",
    "print(\"n_action: \",ac_space.shape[0])"
   ]
  },
  {
   "cell_type": "code",
   "execution_count": 12,
   "metadata": {},
   "outputs": [
    {
     "name": "stdout",
     "output_type": "stream",
     "text": [
      "Create new model\n"
     ]
    }
   ],
   "source": [
    "eval_model = Eval_Model(num_actions=ac_space.shape[0])\n",
    "target_model = Target_Model(num_actions=ac_space.shape[0])\n",
    "try:\n",
    "    eval_model.load_weights(eval_model_weights_path)\n",
    "    target_model.load_weights(target_model_weights_path)\n",
    "    print('Load weights from ',eval_model_weights_path,\" and \",target_model_weights_path)\n",
    "except:\n",
    "    print('Create new model')\n",
    "\n",
    "    \n",
    "RL = DeepQNetwork(ac_space.shape[0], max_choice, ob_space_n,\n",
    "                  eval_model, target_model, learning_rate, reward_decay, e_greedy, \n",
    "                  replace_target_iter, memory_size, batch_size)"
   ]
  },
  {
   "cell_type": "code",
   "execution_count": 13,
   "metadata": {},
   "outputs": [],
   "source": [
    "def slot_scoring(obs):\n",
    "    values = np.random.random_sample((32,)) / 20\n",
    "    \n",
    "    #values = np.zeros((32,)) \n",
    "    #values[np.nonzero(obs[:n_slotUsedTable])] = -np.inf\n",
    "    \n",
    "    top_index = []\n",
    "    for i in range(3):\n",
    "        top_index.append(np.ravel(np.argwhere(obs[:n_slotUsedTable]==i+1)))\n",
    "    \n",
    "    for act in range(32):\n",
    "        r = 0\n",
    "        max_r = 0\n",
    "        for i in range(3):\n",
    "            if any(act < idx for idx in top_index[i]):\n",
    "                distance_map = top_index[i] - act\n",
    "                distance = min(np.where(distance_map>0,distance_map,np.inf))\n",
    "                closest_distance = 0\n",
    "                for idx in range(int(distance)):\n",
    "                    closest_distance = closest_distance + 1 if obs[act+idx] == 0 else closest_distance\n",
    "                    \n",
    "                distance_reward = (1.8-pow((closest_distance/10),0.5))\n",
    "                #distance_reward = (pow((closest_distance/10),0.1)-0.7)\n",
    "                size_weight = pow(_obs[-(3-i)],0.3)\n",
    "                max_r =  max((distance_reward*size_weight/3),max_r)\n",
    "                #r += (0.3*size_weight)\n",
    "\n",
    "            \n",
    "        #if all(idx.size == 0 for idx in top_index):\n",
    "        #    closest_distance = n_slotUsedTable - act\n",
    "        #    #distance_reward = (1.2-pow((closest_distance/10),0.1))\n",
    "        #    distance_reward = (pow((closest_distance/10),0.1)-0.7)\n",
    "        #    r += distance_reward\n",
    "                \n",
    "        values[act] = r + max_r\n",
    "    \n",
    "    values[np.nonzero(obs[:n_slotUsedTable])] = -np.inf\n",
    "    \n",
    "    #print (\"obs:\",obs[:n_slotUsedTable])\n",
    "    #print (\"values:\",values)\n",
    "    \n",
    "    return values"
   ]
  },
  {
   "cell_type": "code",
   "execution_count": 14,
   "metadata": {},
   "outputs": [],
   "source": [
    "def slot_select(q_values, choosable_slotNum, slot_table):\n",
    "    # get top N value of q value\n",
    "    q_values[np.nonzero(slot_table)] = -np.inf\n",
    "    action_unsort = np.argpartition(q_values,-max_choice)[-max_choice:]\n",
    "    \n",
    "    # sort action num by q value\n",
    "    action = action_unsort[np.argsort(-1*q_values[action_unsort])]\n",
    "    \n",
    "    \n",
    "    max_choosable_slotNum = min(choosable_slotNum, max_choice)\n",
    "    # Using the queuing bytes to decide how many data slot would be choose\n",
    "    action_num = 0 if queueBytes == 0 else min(max(0, int(queueBytes/6250 - 0.3)) + 1, max_choosable_slotNum)\n",
    "        \n",
    "    action[action_num:] = [-1] * (max_choice-action_num)\n",
    "    \n",
    "    # sort action num\n",
    "    action[:action_num] = np.sort(action[:action_num])\n",
    "    \n",
    "    return action"
   ]
  },
  {
   "cell_type": "code",
   "execution_count": 15,
   "metadata": {},
   "outputs": [
    {
     "name": "stdout",
     "output_type": "stream",
     "text": [
      "-----------------------episodes:  0  (Training)----------------------\n",
      "Step:  120000\n",
      "done\n",
      "Throughput : 250623.0\n",
      "delay : 25623.0  μs\n"
     ]
    }
   ],
   "source": [
    "for episode in range(1):\n",
    "\n",
    "    isTraining = True if (episode+1)%10 != 0 else False\n",
    "    if isTraining:\n",
    "        print (\"-----------------------episodes: \", episode, \" (Training)----------------------\")\n",
    "    else:\n",
    "        print (\"-----------------------episodes: \", episode, \" (Testing)-----------------------\")\n",
    "\n",
    "    stepIdx = 0\n",
    "    total_choice_counter = 0\n",
    "    optimized_choice_counter = 0\n",
    "    nonLearn_data = 0\n",
    "    throughput = 0\n",
    "    delay = 0\n",
    "    \n",
    "    _obs = env.reset()\n",
    "    queueBytes = _obs[1][0]\n",
    "    \n",
    "    choosable_slotNum = min(n_slotUsedTable - np.nonzero(_obs[0])[0].size,max_choice)\n",
    "    \n",
    "    _obs = np.array(list(_obs[0]) + list(_obs[1][1:]))\n",
    "    _obs = np.pad(_obs,(0, ob_space_n - _obs.size), constant_values = 0)\n",
    "    \n",
    "    \n",
    "    while True:\n",
    "        stepIdx += 1\n",
    "\n",
    "        #action = np.array(slot_select(RL.choose_action(_obs, isTraining),choosable_slotNum,_obs[:n_slotUsedTable]))\n",
    "        \n",
    "        action = np.array(slot_select(slot_scoring(_obs),choosable_slotNum,_obs[:n_slotUsedTable]))\n",
    "        \n",
    "        #print(\"---action: \", action)\n",
    "        obs, reward, done, info = env.step(action)\n",
    "\n",
    "        \n",
    "        if info == \"TimeOut\":\n",
    "            print(\"Step: \", stepIdx)\n",
    "            \n",
    "            print (\"Throughput :\", throughput)\n",
    "            print (\"delay :\", delay,\" μs\")\n",
    "\n",
    "            if total_choice_counter != 0:\n",
    "                optimized_choice.append(optimized_choice_counter/total_choice_counter)\n",
    "            \n",
    "            throughput_list.append(throughput)\n",
    "            delay_list.append(delay)\n",
    "            \n",
    "            break\n",
    "        \n",
    "        choosable_slotNum = min(n_slotUsedTable - np.nonzero(obs[0])[0].size,max_choice)\n",
    "        \n",
    "        # Get queuing bytes\n",
    "        queueBytes = obs[1][0]\n",
    "        \n",
    "        # Since there are multiple action in one step,\n",
    "        # according to each action, it would have one reward.\n",
    "        # But in ns3gym, the reward type is float, it means it can only return one reward,\n",
    "        # we use the return info to send multiple reward\n",
    "        \n",
    "        reward_all = [float(r) for r in info.split(',')]\n",
    "        throughput = reward_all[-2]\n",
    "        delay = reward_all[-1]\n",
    "        reward_all = reward_all[:-2]\n",
    "        \n",
    "        if throughput != 0:\n",
    "            throughput_history.append(throughput)\n",
    "        \n",
    "        if delay != 0:\n",
    "            delay_history.append(delay)\n",
    "            \n",
    "        #reward_all = [0,0,0]\n",
    "        info = stepIdx\n",
    "        \n",
    "        #print(\"Step: \", stepIdx)\n",
    "        #print(\"---obs, reward, done, info: \", obs, reward_all, done, info)\n",
    "        \n",
    "        obs = np.array(list(obs[0]) + list(obs[1][1:]),dtype=float)\n",
    "        obs = np.pad(obs,(0, ob_space_n - obs.size), constant_values = 0)\n",
    "        obs[n_slotUsedTable:] = obs[n_slotUsedTable:]/queueBytes if queueBytes != 0 else np.zeros(3)\n",
    "        \n",
    "        top_index = []\n",
    "        for i in range(3):\n",
    "            top_index.append(np.ravel(np.argwhere(_obs[:n_slotUsedTable]==i+1)))\n",
    "        \n",
    "        for act, r in zip(action,reward_all):\n",
    "            if act == -1:\n",
    "                continue\n",
    "            \n",
    "            \n",
    "            total_choice_counter += 1\n",
    "            nonLearn_data += 1\n",
    "            \n",
    "            if (act not in np.nonzero(_obs[:n_slotUsedTable])[0]):\n",
    "                r += 0.2\n",
    "                \n",
    "                #print (\"act:\",act)\n",
    "                #print (\"r:\",r)\n",
    "                #print (\"throughput:\",throughput)\n",
    "                \n",
    "                isChosen = False\n",
    "                max_r = 0\n",
    "                # Add optimized reward\n",
    "                for i in range(3):\n",
    "                    if any(act < idx for idx in top_index[i]):\n",
    "                        distance_map = top_index[i] - act\n",
    "                        distance = min(np.where(distance_map>0,distance_map,np.inf))\n",
    "                        closest_distance = 0\n",
    "                        for idx in range(closest_distance):\n",
    "                            closest_distance = closest_distance + 1 if obs[act+idx] == 0 else closest_distance\n",
    "                    \n",
    "                        distance_reward = (1.5-pow((closest_distance/10),0.2))\n",
    "                        #distance_reward = (pow((closest_distance/10),0.1)-0.7)\n",
    "                        size_weight = pow(_obs[-(3-i)],0.3)\n",
    "                        max_r =  max((distance_reward*size_weight/3 + throughput/max_throughput/2),max_r) \n",
    "                        #r += (0.3*size_weight) + throughput/max_throughput/2\n",
    "                        \n",
    "                        if not isChosen:\n",
    "                            isChosen = True\n",
    "                            optimized_choice_counter += 1\n",
    "                            \n",
    "                \"\"\"\n",
    "                if all(idx.size == 0 for idx in top_index):\n",
    "                    closest_distance = n_slotUsedTable - act\n",
    "                    #distance_reward = (1.2-pow((closest_distance/10),0.1))\n",
    "                    distance_reward = (pow((closest_distance/10),0.1)-0.7)\n",
    "                    r += distance_reward + throughput/max_throughput/2\n",
    "                    #r += throughput/max_throughput/2\n",
    "                \"\"\"\n",
    "                \n",
    "                \n",
    "                \n",
    "            if isTraining:\n",
    "                r += max_r\n",
    "                RL.store_transition(_obs, act, r, obs)\n",
    "            \n",
    "\n",
    "                \n",
    "        #if stepIdx % 10000 == 0:\n",
    "        #    print(\"Step: \", stepIdx)\n",
    "        \n",
    "        if (total_choice_counter > 1000) and (nonLearn_data > 10) and isTraining:\n",
    "            nonLearn_data = 0\n",
    "            RL.learn()\n",
    "            \n",
    "        # swap observation\n",
    "        _obs = obs\n",
    "        \n",
    "        \n",
    "        if done:\n",
    "            print(\"Step: \", stepIdx)\n",
    "            print (\"done\")\n",
    "            \n",
    "            print (\"Throughput :\", throughput)\n",
    "            print (\"delay :\", delay,\" μs\")\n",
    "            \n",
    "            if total_choice_counter != 0:\n",
    "                optimized_choice.append(optimized_choice_counter/total_choice_counter)\n",
    "            \n",
    "            throughput_list.append(throughput)\n",
    "            delay_list.append(delay)\n",
    "            \n",
    "            break\n",
    "            \n",
    "        #break"
   ]
  },
  {
   "cell_type": "code",
   "execution_count": 16,
   "metadata": {},
   "outputs": [
    {
     "data": {
      "image/png": "[encoded data removed]",
      "text/plain": [
       "<Figure size 432x288 with 1 Axes>"
      ]
     },
     "metadata": {
      "needs_background": "light"
     },
     "output_type": "display_data"
    },
    {
     "data": {
      "image/png": "[encoded data removed]",
      "text/plain": [
       "<Figure size 432x288 with 1 Axes>"
      ]
     },
     "metadata": {
      "needs_background": "light"
     },
     "output_type": "display_data"
    },
    {
     "data": {
      "image/png": "[encoded data removed]",
      "text/plain": [
       "<Figure size 432x288 with 1 Axes>"
      ]
     },
     "metadata": {
      "needs_background": "light"
     },
     "output_type": "display_data"
    },
    {
     "data": {
      "image/png": "[encoded data removed]",
      "text/plain": [
       "<Figure size 432x288 with 1 Axes>"
      ]
     },
     "metadata": {
      "needs_background": "light"
     },
     "output_type": "display_data"
    },
    {
     "data": {
      "image/png": "[encoded data removed]",
      "text/plain": [
       "<Figure size 432x288 with 1 Axes>"
      ]
     },
     "metadata": {
      "needs_background": "light"
     },
     "output_type": "display_data"
    }
   ],
   "source": [
    "# step counter of each episode\n",
    "plt.plot(optimized_choice)\n",
    "plt.show()\n",
    "\n",
    "plt.plot(throughput_history)\n",
    "plt.show()\n",
    "\n",
    "plt.plot(throughput_list)\n",
    "plt.show()\n",
    "\n",
    "plt.plot(delay_history)\n",
    "plt.show()\n",
    "\n",
    "plt.plot(delay_list)\n",
    "plt.show()"
   ]
  },
  {
   "cell_type": "code",
   "execution_count": null,
   "metadata": {},
   "outputs": [],
   "source": [
    "RL.plot_cost()"
   ]
  },
  {
   "cell_type": "code",
   "execution_count": null,
   "metadata": {},
   "outputs": [],
   "source": [
    "env.close()"
   ]
  },
  {
   "cell_type": "code",
   "execution_count": null,
   "metadata": {},
   "outputs": [],
   "source": [
    "eval_model.save_weights('/workspace/model/eval_model_weights')\n",
    "target_model.save_weights('/workspace/model/target_model_weights')"
   ]
  },
  {
   "cell_type": "code",
   "execution_count": null,
   "metadata": {},
   "outputs": [],
   "source": []
  }
 ],
 "metadata": {
  "kernelspec": {
   "display_name": "Python 3",
   "language": "python",
   "name": "python3"
  },
  "language_info": {
   "codemirror_mode": {
    "name": "ipython",
    "version": 3
   },
   "file_extension": ".py",
   "mimetype": "text/x-python",
   "name": "python",
   "nbconvert_exporter": "python",
   "pygments_lexer": "ipython3",
   "version": "3.6.9"
  }
 },
 "nbformat": 4,
 "nbformat_minor": 2
}
