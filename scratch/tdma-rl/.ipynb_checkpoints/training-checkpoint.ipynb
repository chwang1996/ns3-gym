{
 "cells": [
  {
   "cell_type": "code",
   "execution_count": 10,
   "metadata": {},
   "outputs": [],
   "source": [
    "#!/usr/bin/env python3\n",
    "# -*- coding: utf-8 -*-\n",
    "\n",
    "import gym\n",
    "import argparse\n",
    "from ns3gym import ns3env\n",
    "from DQN_model import DeepQNetwork\n",
    "from DQN_model import Eval_Model\n",
    "from DQN_model import Target_Model"
   ]
  },
  {
   "cell_type": "code",
   "execution_count": 3,
   "metadata": {},
   "outputs": [],
   "source": [
    "learning_rate = 0.01\n",
    "reward_decay = 0.9\n",
    "e_greedy = 0.9\n",
    "replace_target_iter = 300\n",
    "memory_size = 500\n",
    "batch_size = 32\n",
    "episodes = 1500"
   ]
  },
  {
   "cell_type": "code",
   "execution_count": 4,
   "metadata": {},
   "outputs": [],
   "source": [
    "def run_tdma():\n",
    "\n",
    "\n",
    "    except KeyboardInterrupt:\n",
    "        print(\"Ctrl-C -> Exit\")\n",
    "    finally:\n",
    "        env.close()\n",
    "        print(\"Done\")"
   ]
  },
  {
   "cell_type": "code",
   "execution_count": 7,
   "metadata": {},
   "outputs": [
    {
     "name": "stdout",
     "output_type": "stream",
     "text": [
      "Got new port for ns3gm interface:  5457\n",
      "Observation space:  Dict(pktBytes:Box(3,), slotUsedTable:Box(100,)) None\n",
      "Action space:  Box(3,) int64\n",
      "3\n"
     ]
    }
   ],
   "source": [
    "port = 0\n",
    "simTime = 20 # seconds\n",
    "stepTime = 0.5  # seconds\n",
    "seed = 0\n",
    "simArgs = {\"--simTime\": simTime,\n",
    "           \"--testArg\": 123}\n",
    "\n",
    "\n",
    "\n",
    "env = gym.make('ns3-v0')\n",
    "#env = ns3env.Ns3Env(debug=True)\n",
    "\n",
    "env.reset()\n",
    "\n",
    "ob_space = env.observation_space\n",
    "ac_space = env.action_space\n",
    "print(\"Observation space: \", ob_space,  ob_space.dtype)\n",
    "print(\"Action space: \", ac_space, ac_space.dtype)\n",
    "\n",
    "print (ob_space['pktBytes'].shape[0])\n",
    "\n"
   ]
  },
  {
   "cell_type": "code",
   "execution_count": 11,
   "metadata": {},
   "outputs": [],
   "source": [
    "eval_model = Eval_Model(num_actions=ac_space.shape[0])\n",
    "target_model = Target_Model(num_actions=ac_space.shape[0])\n",
    "RL = DeepQNetwork(ac_space.shape[0], ob_space['pktBytes'].shape[0] + ob_space['slotUsedTable'].shape[0],\n",
    "                  eval_model, target_model, learning_rate, reward_decay, e_greedy, \n",
    "                  replace_target_iter, memory_size, batch_size)\n"
   ]
  },
  {
   "cell_type": "code",
   "execution_count": null,
   "metadata": {},
   "outputs": [],
   "source": [
    "for episode in range(episodes):\n",
    "    stepIdx = 0\n",
    "\n",
    "    _obs = env.reset()\n",
    "    print(\"Step: \", stepIdx)\n",
    "    print(\"---obs: \", obs)\n",
    "\n",
    "    while True:\n",
    "        stepIdx += 1\n",
    "\n",
    "        action = RL.choose_action(_obs)\n",
    "        #action = env.action_space.sample()\n",
    "        \n",
    "        print(\"---action: \", action)\n",
    "        obs, reward, done, info = env.step(action)\n",
    "\n",
    "        print(\"Step: \", stepIdx)\n",
    "        print(\"---obs, reward, done, info: \", obs, reward, done, info)\n",
    "\n",
    "        RL.store_transition(observation, action, reward, obs)\n",
    "        if (step > 64*50) and (step % 5 == 0):\n",
    "            RL.learn()\n",
    "            \n",
    "        # swap observation\n",
    "        _obs = obs\n",
    "\n",
    "        if done:\n",
    "            break\n"
   ]
  },
  {
   "cell_type": "code",
   "execution_count": null,
   "metadata": {},
   "outputs": [],
   "source": [
    "env.close()"
   ]
  }
 ],
 "metadata": {
  "kernelspec": {
   "display_name": "Python 3",
   "language": "python",
   "name": "python3"
  },
  "language_info": {
   "codemirror_mode": {
    "name": "ipython",
    "version": 3
   },
   "file_extension": ".py",
   "mimetype": "text/x-python",
   "name": "python",
   "nbconvert_exporter": "python",
   "pygments_lexer": "ipython3",
   "version": "3.6.9"
  }
 },
 "nbformat": 4,
 "nbformat_minor": 2
}
