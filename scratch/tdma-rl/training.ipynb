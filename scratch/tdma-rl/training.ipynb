{
 "cells": [
  {
   "cell_type": "code",
   "execution_count": null,
   "metadata": {},
   "outputs": [],
   "source": [
    "#!/usr/bin/env python3\n",
    "# -*- coding: utf-8 -*-\n",
    "\n",
    "import gym\n",
    "import argparse\n",
    "import numpy as np\n",
    "from ns3gym import ns3env\n",
    "from DQN_model import DeepQNetwork\n",
    "from DQN_model import Eval_Model\n",
    "from DQN_model import Target_Model\n",
    "\n",
    "import matplotlib.pyplot as plt"
   ]
  },
  {
   "cell_type": "code",
   "execution_count": null,
   "metadata": {},
   "outputs": [],
   "source": [
    "learning_rate = 0.01\n",
    "reward_decay = 0.9\n",
    "e_greedy = 0.9\n",
    "replace_target_iter = 100\n",
    "memory_size = 500\n",
    "batch_size = 32\n",
    "episodes = 1000\n",
    "max_chosen = 3\n",
    "repeat_chosen = []\n",
    "episode_time = 300"
   ]
  },
  {
   "cell_type": "code",
   "execution_count": null,
   "metadata": {},
   "outputs": [],
   "source": [
    "#env = gym.make('ns3-v0')\n",
    "env = ns3env.Ns3Env(debug=True)\n",
    "\n",
    "#env.reset()\n",
    "\n",
    "ob_space = env.observation_space\n",
    "ac_space = env.action_space\n",
    "ob_space_n = ob_space['slotUsedTable'].shape[0] + ob_space['pktBytes'].shape[0] - 1\n",
    "\n",
    "print(\"Observation space: \", ob_space,  ob_space.dtype)\n",
    "print(\"Action space: \", ac_space, ac_space.dtype)\n",
    "print(\"n_action: \",ac_space.shape[0])"
   ]
  },
  {
   "cell_type": "code",
   "execution_count": null,
   "metadata": {},
   "outputs": [],
   "source": [
    "eval_model = Eval_Model(num_actions=ac_space.shape[0])\n",
    "target_model = Target_Model(num_actions=ac_space.shape[0])\n",
    "RL = DeepQNetwork(ac_space.shape[0], max_chosen, ob_space_n,\n",
    "                  eval_model, target_model, learning_rate, reward_decay, e_greedy, \n",
    "                  replace_target_iter, memory_size, batch_size)"
   ]
  },
  {
   "cell_type": "code",
   "execution_count": null,
   "metadata": {},
   "outputs": [],
   "source": [
    "for episode in range(episodes):\n",
    "    print (\"-----------------------episodes: \", episode, \" -----------------------\")\n",
    "    stepIdx = 0\n",
    "    repeat_chosen_counter = 0\n",
    "    \n",
    "    _obs = env.reset()\n",
    "    queueBytes = _obs[1][0]\n",
    "    \n",
    "    _obs = np.array(list(_obs[0]) + list(_obs[1][1:]))\n",
    "    _obs = np.pad(_obs,(0, ob_space_n - _obs.size), constant_values = 0)\n",
    "\n",
    "    \n",
    "    while True:\n",
    "        stepIdx += 1\n",
    "\n",
    "        action = np.array(RL.choose_action(_obs))\n",
    "\n",
    "        \n",
    "        # Using the queuing bytes to decide how many data slot would be choose\n",
    "        action_num = 0 if queueBytes == 0 else min(max(0, int(queueBytes/6250 - 0.3)) + 1, 3)\n",
    "        \n",
    "        action[action_num:] = [-1] * (max_chosen-action_num)\n",
    "        \n",
    "        \n",
    "        #action = env.action_space.sample()\n",
    "        \n",
    "        #print(\"---action: \", action)\n",
    "        #print (\"Send to env\")\n",
    "        obs, reward, done, info = env.step(action)\n",
    "        #print (\"Back!\")\n",
    "        # Get queuing bytes\n",
    "        queueBytes = obs[1][0]\n",
    "        \n",
    "        # Since there are multiple action in one step,\n",
    "        # according to each action, it would have one reward.\n",
    "        # But in ns3gym, the reward type is float, it means it can only return one reward,\n",
    "        # we use the return info to send multiple reward\n",
    "        \n",
    "        reward_all = [float(r) for r in info.split(',')]\n",
    "        info = stepIdx\n",
    "        \n",
    "        #print(\"Step: \", stepIdx)\n",
    "        #print(\"---obs, reward, done, info: \", obs, reward_all, done, info)\n",
    "        \n",
    "        obs = np.array(list(obs[0]) + list(obs[1][1:]))\n",
    "        obs = np.pad(obs,(0, ob_space_n - obs.size), constant_values = 0)\n",
    "        \n",
    "        for act, r in zip(action,reward_all):\n",
    "            RL.store_transition(_obs, act, r, obs)\n",
    "            \n",
    "            if r <= -100:\n",
    "                repeat_chosen_counter += 1\n",
    "        \n",
    "        if (stepIdx > 64*50) and (stepIdx % 5 == 0):\n",
    "            RL.learn()\n",
    "            \n",
    "        # swap observation\n",
    "        _obs = obs\n",
    "        \n",
    "        \n",
    "        if done or stepIdx == int(300/0.132*64):\n",
    "            print(\"Step: \", stepIdx)\n",
    "            print (\"done\")\n",
    "            RL.learn()\n",
    "            \n",
    "            repeat_chosen.append(repeat_chosen_counter)\n",
    "            break\n",
    "            \n",
    "        #break\n",
    "        \n"
   ]
  },
  {
   "cell_type": "code",
   "execution_count": null,
   "metadata": {},
   "outputs": [],
   "source": [
    "# step counter of each episode\n",
    "plt.plot(repeat_chosen)\n",
    "plt.show()"
   ]
  },
  {
   "cell_type": "code",
   "execution_count": null,
   "metadata": {},
   "outputs": [],
   "source": [
    "env.close()"
   ]
  }
 ],
 "metadata": {
  "kernelspec": {
   "display_name": "Python 3",
   "language": "python",
   "name": "python3"
  },
  "language_info": {
   "codemirror_mode": {
    "name": "ipython",
    "version": 3
   },
   "file_extension": ".py",
   "mimetype": "text/x-python",
   "name": "python",
   "nbconvert_exporter": "python",
   "pygments_lexer": "ipython3",
   "version": "3.6.9"
  }
 },
 "nbformat": 4,
 "nbformat_minor": 2
}
