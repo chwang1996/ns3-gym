{
 "cells": [
  {
   "cell_type": "code",
   "execution_count": 1,
   "metadata": {},
   "outputs": [],
   "source": [
    "#!/usr/bin/env python3\n",
    "# -*- coding: utf-8 -*-\n",
    "\n",
    "import gym\n",
    "import argparse\n",
    "import numpy as np\n",
    "from ns3gym import ns3env\n",
    "from DQN_model import DeepQNetwork\n",
    "from DQN_model import Eval_Model\n",
    "from DQN_model import Target_Model\n",
    "import tensorflow as tf\n",
    "\n",
    "import matplotlib.pyplot as plt"
   ]
  },
  {
   "cell_type": "code",
   "execution_count": 2,
   "metadata": {},
   "outputs": [],
   "source": [
    "learning_rate = 0.01\n",
    "reward_decay = 0.9\n",
    "e_greedy = 0.9\n",
    "replace_target_iter = 100\n",
    "memory_size = 500\n",
    "batch_size = 32\n",
    "training_episodes = 20\n",
    "testing_episodes = 10\n",
    "max_choice = 3\n",
    "training_repeat_chosen = []\n",
    "testing_repeat_chosen = []\n",
    "optimized_choice = []\n",
    "episode_time = 300\n",
    "eval_model_path = ''\n",
    "target_model_path = ''\n",
    "#eval_model_path = '/workspace/model/eval_model'\n",
    "#target_model_path = '/workspace/model/target_model'"
   ]
  },
  {
   "cell_type": "code",
   "execution_count": 3,
   "metadata": {},
   "outputs": [
    {
     "name": "stdout",
     "output_type": "stream",
     "text": [
      "Got new port for ns3gm interface:  5730\n",
      "Start command:  /tf/ns3-gym/waf --run \"tdma-rl --openGymPort=5730 --simSeed=1307489459\"\n",
      "Started ns3 simulation script, Process Id:  22594\n",
      "Observation space:  Dict(pktBytes:Box(4,), slotUsedTable:Box(32,)) None\n",
      "Action space:  Box(32,) int64\n",
      "n_action:  32\n"
     ]
    }
   ],
   "source": [
    "#env = gym.make('ns3-v0')\n",
    "env = ns3env.Ns3Env(debug=True)\n",
    "\n",
    "#env.reset()\n",
    "\n",
    "ob_space = env.observation_space\n",
    "ac_space = env.action_space\n",
    "ob_space_n = ob_space['slotUsedTable'].shape[0] + ob_space['pktBytes'].shape[0] - 1\n",
    "n_slotUsedTable = ob_space['slotUsedTable'].shape[0]\n",
    "\n",
    "\n",
    "print(\"Observation space: \", ob_space,  ob_space.dtype)\n",
    "print(\"Action space: \", ac_space, ac_space.dtype)\n",
    "print(\"n_action: \",ac_space.shape[0])"
   ]
  },
  {
   "cell_type": "code",
   "execution_count": 4,
   "metadata": {},
   "outputs": [
    {
     "name": "stdout",
     "output_type": "stream",
     "text": [
      "Create new model\n"
     ]
    }
   ],
   "source": [
    "try:\n",
    "    eval_model = tf.keras.models.load_model(eval_model_path)\n",
    "    target_model = tf.keras.models.load_model(target_model_path)\n",
    "    print('load model')\n",
    "except:\n",
    "    eval_model = Eval_Model(num_actions=ac_space.shape[0])\n",
    "    target_model = Target_Model(num_actions=ac_space.shape[0])\n",
    "    print('Create new model')\n",
    "RL = DeepQNetwork(ac_space.shape[0], max_choice, ob_space_n,\n",
    "                  eval_model, target_model, learning_rate, reward_decay, e_greedy, \n",
    "                  replace_target_iter, memory_size, batch_size)"
   ]
  },
  {
   "cell_type": "code",
   "execution_count": 5,
   "metadata": {},
   "outputs": [],
   "source": [
    "def slot_select(q_values,choosable_slotNum):\n",
    "    action_unsort = np.argpartition(q_values,-max_choice)[-max_choice:]\n",
    "    action = action_unsort[np.argsort(q_values[action_unsort])]\n",
    "    \n",
    "    max_choosable_slotNum = min(choosable_slotNum, max_choice)\n",
    "    # Using the queuing bytes to decide how many data slot would be choose\n",
    "    action_num = 0 if queueBytes == 0 else min(max(0, int(queueBytes/6250 - 0.3)) + 1, max_choosable_slotNum)\n",
    "        \n",
    "    action[action_num:] = [-1] * (max_choice-action_num)\n",
    "    \n",
    "    # sort action num\n",
    "    action[:action_num] = np.sort(action[:action_num])\n",
    "    \n",
    "    return action"
   ]
  },
  {
   "cell_type": "code",
   "execution_count": 6,
   "metadata": {},
   "outputs": [
    {
     "name": "stdout",
     "output_type": "stream",
     "text": [
      "-----------------------episodes:  0  (Training)----------------------\n",
      "Step:  120000\n",
      "done\n",
      "Repeat_chosen_counter : 16286\n",
      "-----------------------episodes:  1  (Training)----------------------\n",
      "Got new port for ns3gm interface:  7462\n",
      "Start command:  /tf/ns3-gym/waf --run \"tdma-rl --openGymPort=7462 --simSeed=2450694210\"\n",
      "Started ns3 simulation script, Process Id:  27775\n",
      "Step:  120000\n",
      "done\n",
      "Repeat_chosen_counter : 14600\n",
      "-----------------------episodes:  2  (Training)----------------------\n",
      "Got new port for ns3gm interface:  8956\n",
      "Start command:  /tf/ns3-gym/waf --run \"tdma-rl --openGymPort=8956 --simSeed=79203448\"\n",
      "Started ns3 simulation script, Process Id:  825\n",
      "Step:  120000\n",
      "done\n",
      "Repeat_chosen_counter : 15712\n",
      "-----------------------episodes:  3  (Training)----------------------\n",
      "Got new port for ns3gm interface:  6633\n",
      "Start command:  /tf/ns3-gym/waf --run \"tdma-rl --openGymPort=6633 --simSeed=3870107301\"\n",
      "Started ns3 simulation script, Process Id:  5687\n",
      "Step:  120000\n",
      "done\n",
      "Repeat_chosen_counter : 15549\n",
      "-----------------------episodes:  4  (Training)----------------------\n",
      "Got new port for ns3gm interface:  9165\n",
      "Start command:  /tf/ns3-gym/waf --run \"tdma-rl --openGymPort=9165 --simSeed=4237530598\"\n",
      "Started ns3 simulation script, Process Id:  10666\n",
      "Step:  120000\n",
      "done\n",
      "Repeat_chosen_counter : 14566\n",
      "-----------------------episodes:  5  (Training)----------------------\n",
      "Got new port for ns3gm interface:  6208\n",
      "Start command:  /tf/ns3-gym/waf --run \"tdma-rl --openGymPort=6208 --simSeed=4017913548\"\n",
      "Started ns3 simulation script, Process Id:  16000\n",
      "Step:  120000\n",
      "done\n",
      "Repeat_chosen_counter : 14128\n",
      "-----------------------episodes:  6  (Training)----------------------\n",
      "Got new port for ns3gm interface:  7339\n",
      "Start command:  /tf/ns3-gym/waf --run \"tdma-rl --openGymPort=7339 --simSeed=1904427223\"\n",
      "Started ns3 simulation script, Process Id:  20323\n",
      "Step:  120000\n",
      "done\n",
      "Repeat_chosen_counter : 14037\n",
      "-----------------------episodes:  7  (Training)----------------------\n",
      "Got new port for ns3gm interface:  5498\n",
      "Start command:  /tf/ns3-gym/waf --run \"tdma-rl --openGymPort=5498 --simSeed=2817721913\"\n",
      "Started ns3 simulation script, Process Id:  25602\n",
      "Step:  120000\n",
      "done\n",
      "Repeat_chosen_counter : 15564\n",
      "-----------------------episodes:  8  (Training)----------------------\n",
      "Got new port for ns3gm interface:  8858\n",
      "Start command:  /tf/ns3-gym/waf --run \"tdma-rl --openGymPort=8858 --simSeed=9521469\"\n",
      "Started ns3 simulation script, Process Id:  30121\n",
      "Step:  120000\n",
      "done\n",
      "Repeat_chosen_counter : 15305\n",
      "-----------------------episodes:  9  (Testing)-----------------------\n",
      "Got new port for ns3gm interface:  9306\n",
      "Start command:  /tf/ns3-gym/waf --run \"tdma-rl --openGymPort=9306 --simSeed=743120983\"\n",
      "Started ns3 simulation script, Process Id:  2534\n",
      "Step:  120000\n",
      "done\n",
      "Repeat_chosen_counter : 8827\n",
      "-----------------------episodes:  10  (Training)----------------------\n",
      "Got new port for ns3gm interface:  8526\n",
      "Start command:  /tf/ns3-gym/waf --run \"tdma-rl --openGymPort=8526 --simSeed=4137381181\"\n",
      "Started ns3 simulation script, Process Id:  7338\n",
      "Step:  120000\n",
      "done\n",
      "Repeat_chosen_counter : 18202\n",
      "-----------------------episodes:  11  (Training)----------------------\n",
      "Got new port for ns3gm interface:  6495\n"
     ]
    },
    {
     "ename": "OSError",
     "evalue": "[Errno 12] Cannot allocate memory",
     "output_type": "error",
     "traceback": [
      "\u001b[0;31m\u001b[0m",
      "\u001b[0;31mOSError\u001b[0mTraceback (most recent call last)",
      "\u001b[0;32m<ipython-input-6-a37bd45f29e2>\u001b[0m in \u001b[0;36m<module>\u001b[0;34m\u001b[0m\n\u001b[1;32m     12\u001b[0m     \u001b[0mtotal_choice_counter\u001b[0m \u001b[0;34m=\u001b[0m \u001b[0;36m0\u001b[0m\u001b[0;34m\u001b[0m\u001b[0;34m\u001b[0m\u001b[0m\n\u001b[1;32m     13\u001b[0m \u001b[0;34m\u001b[0m\u001b[0m\n\u001b[0;32m---> 14\u001b[0;31m     \u001b[0m_obs\u001b[0m \u001b[0;34m=\u001b[0m \u001b[0menv\u001b[0m\u001b[0;34m.\u001b[0m\u001b[0mreset\u001b[0m\u001b[0;34m(\u001b[0m\u001b[0;34m)\u001b[0m\u001b[0;34m\u001b[0m\u001b[0;34m\u001b[0m\u001b[0m\n\u001b[0m\u001b[1;32m     15\u001b[0m     \u001b[0mqueueBytes\u001b[0m \u001b[0;34m=\u001b[0m \u001b[0m_obs\u001b[0m\u001b[0;34m[\u001b[0m\u001b[0;36m1\u001b[0m\u001b[0;34m]\u001b[0m\u001b[0;34m[\u001b[0m\u001b[0;36m0\u001b[0m\u001b[0;34m]\u001b[0m\u001b[0;34m\u001b[0m\u001b[0;34m\u001b[0m\u001b[0m\n\u001b[1;32m     16\u001b[0m \u001b[0;34m\u001b[0m\u001b[0m\n",
      "\u001b[0;32m~.local/lib/python3.6/site-packages/ns3gym/ns3env.py\u001b[0m in \u001b[0;36mreset\u001b[0;34m(self)\u001b[0m\n\u001b[1;32m    424\u001b[0m \u001b[0;34m\u001b[0m\u001b[0m\n\u001b[1;32m    425\u001b[0m         \u001b[0mself\u001b[0m\u001b[0;34m.\u001b[0m\u001b[0menvDirty\u001b[0m \u001b[0;34m=\u001b[0m \u001b[0;32mFalse\u001b[0m\u001b[0;34m\u001b[0m\u001b[0;34m\u001b[0m\u001b[0m\n\u001b[0;32m--> 426\u001b[0;31m         \u001b[0mself\u001b[0m\u001b[0;34m.\u001b[0m\u001b[0mns3ZmqBridge\u001b[0m \u001b[0;34m=\u001b[0m \u001b[0mNs3ZmqBridge\u001b[0m\u001b[0;34m(\u001b[0m\u001b[0mself\u001b[0m\u001b[0;34m.\u001b[0m\u001b[0mport\u001b[0m\u001b[0;34m,\u001b[0m \u001b[0mself\u001b[0m\u001b[0;34m.\u001b[0m\u001b[0mstartSim\u001b[0m\u001b[0;34m,\u001b[0m \u001b[0mself\u001b[0m\u001b[0;34m.\u001b[0m\u001b[0msimSeed\u001b[0m\u001b[0;34m,\u001b[0m \u001b[0mself\u001b[0m\u001b[0;34m.\u001b[0m\u001b[0msimArgs\u001b[0m\u001b[0;34m,\u001b[0m \u001b[0mself\u001b[0m\u001b[0;34m.\u001b[0m\u001b[0mdebug\u001b[0m\u001b[0;34m)\u001b[0m\u001b[0;34m\u001b[0m\u001b[0;34m\u001b[0m\u001b[0m\n\u001b[0m\u001b[1;32m    427\u001b[0m         \u001b[0mself\u001b[0m\u001b[0;34m.\u001b[0m\u001b[0mns3ZmqBridge\u001b[0m\u001b[0;34m.\u001b[0m\u001b[0minitialize_env\u001b[0m\u001b[0;34m(\u001b[0m\u001b[0mself\u001b[0m\u001b[0;34m.\u001b[0m\u001b[0mstepTime\u001b[0m\u001b[0;34m)\u001b[0m\u001b[0;34m\u001b[0m\u001b[0;34m\u001b[0m\u001b[0m\n\u001b[1;32m    428\u001b[0m         \u001b[0mself\u001b[0m\u001b[0;34m.\u001b[0m\u001b[0maction_space\u001b[0m \u001b[0;34m=\u001b[0m \u001b[0mself\u001b[0m\u001b[0;34m.\u001b[0m\u001b[0mns3ZmqBridge\u001b[0m\u001b[0;34m.\u001b[0m\u001b[0mget_action_space\u001b[0m\u001b[0;34m(\u001b[0m\u001b[0;34m)\u001b[0m\u001b[0;34m\u001b[0m\u001b[0;34m\u001b[0m\u001b[0m\n",
      "\u001b[0;32m~.local/lib/python3.6/site-packages/ns3gym/ns3env.py\u001b[0m in \u001b[0;36m__init__\u001b[0;34m(self, port, startSim, simSeed, simArgs, debug)\u001b[0m\n\u001b[1;32m     65\u001b[0m         \u001b[0;32mif\u001b[0m \u001b[0mself\u001b[0m\u001b[0;34m.\u001b[0m\u001b[0mstartSim\u001b[0m\u001b[0;34m:\u001b[0m\u001b[0;34m\u001b[0m\u001b[0;34m\u001b[0m\u001b[0m\n\u001b[1;32m     66\u001b[0m             \u001b[0;31m# run simulation script\u001b[0m\u001b[0;34m\u001b[0m\u001b[0;34m\u001b[0m\u001b[0;34m\u001b[0m\u001b[0m\n\u001b[0;32m---> 67\u001b[0;31m             \u001b[0mself\u001b[0m\u001b[0;34m.\u001b[0m\u001b[0mns3Process\u001b[0m \u001b[0;34m=\u001b[0m \u001b[0mstart_sim_script\u001b[0m\u001b[0;34m(\u001b[0m\u001b[0mport\u001b[0m\u001b[0;34m,\u001b[0m \u001b[0msimSeed\u001b[0m\u001b[0;34m,\u001b[0m \u001b[0msimArgs\u001b[0m\u001b[0;34m,\u001b[0m \u001b[0mdebug\u001b[0m\u001b[0;34m)\u001b[0m\u001b[0;34m\u001b[0m\u001b[0;34m\u001b[0m\u001b[0m\n\u001b[0m\u001b[1;32m     68\u001b[0m         \u001b[0;32melse\u001b[0m\u001b[0;34m:\u001b[0m\u001b[0;34m\u001b[0m\u001b[0;34m\u001b[0m\u001b[0m\n\u001b[1;32m     69\u001b[0m             \u001b[0mprint\u001b[0m\u001b[0;34m(\u001b[0m\u001b[0;34m\"Waiting for simulation script to connect on port: tcp://localhost:{}\"\u001b[0m\u001b[0;34m.\u001b[0m\u001b[0mformat\u001b[0m\u001b[0;34m(\u001b[0m\u001b[0mport\u001b[0m\u001b[0;34m)\u001b[0m\u001b[0;34m)\u001b[0m\u001b[0;34m\u001b[0m\u001b[0;34m\u001b[0m\u001b[0m\n",
      "\u001b[0;32m~.local/lib/python3.6/site-packages/ns3gym/start_sim.py\u001b[0m in \u001b[0;36mstart_sim_script\u001b[0;34m(port, simSeed, simArgs, debug)\u001b[0m\n\u001b[1;32m     89\u001b[0m                 \u001b[0merrorOutput\u001b[0m \u001b[0;34m=\u001b[0m \u001b[0mopen\u001b[0m\u001b[0;34m(\u001b[0m\u001b[0;34m\"/test/RLerror.log\"\u001b[0m\u001b[0;34m,\u001b[0m\u001b[0;34m\"w\"\u001b[0m\u001b[0;34m)\u001b[0m\u001b[0;34m\u001b[0m\u001b[0;34m\u001b[0m\u001b[0m\n\u001b[1;32m     90\u001b[0m \u001b[0;34m\u001b[0m\u001b[0m\n\u001b[0;32m---> 91\u001b[0;31m                 \u001b[0mns3Proc\u001b[0m \u001b[0;34m=\u001b[0m \u001b[0msubprocess\u001b[0m\u001b[0;34m.\u001b[0m\u001b[0mPopen\u001b[0m\u001b[0;34m(\u001b[0m\u001b[0mwafString\u001b[0m\u001b[0;34m,\u001b[0m \u001b[0mshell\u001b[0m\u001b[0;34m=\u001b[0m\u001b[0;32mTrue\u001b[0m\u001b[0;34m,\u001b[0m \u001b[0mstdout\u001b[0m\u001b[0;34m=\u001b[0m\u001b[0;32mNone\u001b[0m\u001b[0;34m,\u001b[0m \u001b[0mstderr\u001b[0m\u001b[0;34m=\u001b[0m\u001b[0merrorOutput\u001b[0m\u001b[0;34m)\u001b[0m\u001b[0;34m\u001b[0m\u001b[0;34m\u001b[0m\u001b[0m\n\u001b[0m\u001b[1;32m     92\u001b[0m         \u001b[0;32melse\u001b[0m\u001b[0;34m:\u001b[0m\u001b[0;34m\u001b[0m\u001b[0;34m\u001b[0m\u001b[0m\n\u001b[1;32m     93\u001b[0m \t\t'''\n",
      "\u001b[0;32m~usr/lib/python3.6/subprocess.py\u001b[0m in \u001b[0;36m__init__\u001b[0;34m(self, args, bufsize, executable, stdin, stdout, stderr, preexec_fn, close_fds, shell, cwd, env, universal_newlines, startupinfo, creationflags, restore_signals, start_new_session, pass_fds, encoding, errors)\u001b[0m\n\u001b[1;32m    727\u001b[0m                                 \u001b[0mc2pread\u001b[0m\u001b[0;34m,\u001b[0m \u001b[0mc2pwrite\u001b[0m\u001b[0;34m,\u001b[0m\u001b[0;34m\u001b[0m\u001b[0;34m\u001b[0m\u001b[0m\n\u001b[1;32m    728\u001b[0m                                 \u001b[0merrread\u001b[0m\u001b[0;34m,\u001b[0m \u001b[0merrwrite\u001b[0m\u001b[0;34m,\u001b[0m\u001b[0;34m\u001b[0m\u001b[0;34m\u001b[0m\u001b[0m\n\u001b[0;32m--> 729\u001b[0;31m                                 restore_signals, start_new_session)\n\u001b[0m\u001b[1;32m    730\u001b[0m         \u001b[0;32mexcept\u001b[0m\u001b[0;34m:\u001b[0m\u001b[0;34m\u001b[0m\u001b[0;34m\u001b[0m\u001b[0m\n\u001b[1;32m    731\u001b[0m             \u001b[0;31m# Cleanup if the child failed starting.\u001b[0m\u001b[0;34m\u001b[0m\u001b[0;34m\u001b[0m\u001b[0;34m\u001b[0m\u001b[0m\n",
      "\u001b[0;32m~usr/lib/python3.6/subprocess.py\u001b[0m in \u001b[0;36m_execute_child\u001b[0;34m(self, args, executable, preexec_fn, close_fds, pass_fds, cwd, env, startupinfo, creationflags, shell, p2cread, p2cwrite, c2pread, c2pwrite, errread, errwrite, restore_signals, start_new_session)\u001b[0m\n\u001b[1;32m   1293\u001b[0m                             \u001b[0merrread\u001b[0m\u001b[0;34m,\u001b[0m \u001b[0merrwrite\u001b[0m\u001b[0;34m,\u001b[0m\u001b[0;34m\u001b[0m\u001b[0;34m\u001b[0m\u001b[0m\n\u001b[1;32m   1294\u001b[0m                             \u001b[0merrpipe_read\u001b[0m\u001b[0;34m,\u001b[0m \u001b[0merrpipe_write\u001b[0m\u001b[0;34m,\u001b[0m\u001b[0;34m\u001b[0m\u001b[0;34m\u001b[0m\u001b[0m\n\u001b[0;32m-> 1295\u001b[0;31m                             restore_signals, start_new_session, preexec_fn)\n\u001b[0m\u001b[1;32m   1296\u001b[0m                     \u001b[0mself\u001b[0m\u001b[0;34m.\u001b[0m\u001b[0m_child_created\u001b[0m \u001b[0;34m=\u001b[0m \u001b[0;32mTrue\u001b[0m\u001b[0;34m\u001b[0m\u001b[0;34m\u001b[0m\u001b[0m\n\u001b[1;32m   1297\u001b[0m                 \u001b[0;32mfinally\u001b[0m\u001b[0;34m:\u001b[0m\u001b[0;34m\u001b[0m\u001b[0;34m\u001b[0m\u001b[0m\n",
      "\u001b[0;31mOSError\u001b[0m: [Errno 12] Cannot allocate memory"
     ]
    }
   ],
   "source": [
    "for episode in range(training_episodes):\n",
    "\n",
    "    isTraining = True if (episode+1)%10 != 0 else False\n",
    "    if isTraining:\n",
    "        print (\"-----------------------episodes: \", episode, \" (Training)----------------------\")\n",
    "    else:\n",
    "        print (\"-----------------------episodes: \", episode, \" (Testing)-----------------------\")\n",
    "\n",
    "    stepIdx = 0\n",
    "    repeat_chosen_counter = 0\n",
    "    optimized_choice_counter = 0\n",
    "    total_choice_counter = 0\n",
    "    \n",
    "    _obs = env.reset()\n",
    "    queueBytes = _obs[1][0]\n",
    "    \n",
    "    choosable_slotNum = min(n_slotUsedTable - np.nonzero(_obs[0])[0].size,max_choice)\n",
    "    \n",
    "    _obs = np.array(list(_obs[0]) + list(_obs[1][1:]))\n",
    "    _obs = np.pad(_obs,(0, ob_space_n - _obs.size), constant_values = 0)\n",
    "    \n",
    "    \n",
    "    while True:\n",
    "        stepIdx += 1\n",
    "\n",
    "        action = np.array(slot_select(RL.choose_action(_obs, isTraining),choosable_slotNum))\n",
    "\n",
    "        \n",
    "        #print(\"---action: \", action)\n",
    "        obs, reward, done, info = env.step(action)\n",
    "\n",
    "        \n",
    "        if info == \"TimeOut\":\n",
    "            print(\"Step: \", stepIdx)\n",
    "            print (\"Repeat_chosen_counter :\", repeat_chosen_counter)\n",
    "            \n",
    "            if isTraining:\n",
    "                RL.learn()\n",
    "                testing_repeat_chosen.append(repeat_chosen_counter)\n",
    "            else:\n",
    "                training_repeat_chosen.append(repeat_chosen_counter)\n",
    "            \n",
    "            optimized_choice.append(optimized_choice_counter/total_choice_counter)\n",
    "                \n",
    "            break\n",
    "        \n",
    "        choosable_slotNum = min(n_slotUsedTable - np.nonzero(obs[0])[0].size,max_choice)\n",
    "        \n",
    "        # Get queuing bytes\n",
    "        queueBytes = obs[1][0]\n",
    "        \n",
    "        # Since there are multiple action in one step,\n",
    "        # according to each action, it would have one reward.\n",
    "        # But in ns3gym, the reward type is float, it means it can only return one reward,\n",
    "        # we use the return info to send multiple reward\n",
    "        \n",
    "        #reward_all = [float(r) for r in info.split(',')]\n",
    "        reward_all = [0,0,0]\n",
    "        info = stepIdx\n",
    "         \n",
    "        \n",
    "        #print(\"Step: \", stepIdx)\n",
    "        #print(\"---obs, reward, done, info: \", obs, reward_all, done, info)\n",
    "        \n",
    "        obs = np.array(list(obs[0]) + list(obs[1][1:]),dtype=float)\n",
    "        obs = np.pad(obs,(0, ob_space_n - obs.size), constant_values = 0)\n",
    "        obs[n_slotUsedTable:] = obs[n_slotUsedTable:]/queueBytes * 10 if queueBytes != 0 else np.zeros(3)\n",
    "        \n",
    "        top_index = []\n",
    "        for i in range(3):\n",
    "            top_index.append(np.ravel(np.argwhere(_obs[:n_slotUsedTable]==i+1)))\n",
    "        \n",
    "        for act, r in zip(action,reward_all):\n",
    "            if act == -1:\n",
    "                continue\n",
    "               \n",
    "            if (act not in np.nonzero(_obs[:n_slotUsedTable])[0]):\n",
    "                r += 1\n",
    "                \n",
    "                isChosen = False\n",
    "                \n",
    "                # Add optimized reward\n",
    "                for i in range(3):\n",
    "                    if any(act < idx for idx in top_index[i]):\n",
    "                        distance_map = top_index[i] - act\n",
    "                        closest_distance = min(np.where(distance_map>0,distance_map,np.inf))\n",
    "                        distance_reward = (1.2-pow((closest_distance/10),0.1))/10\n",
    "                        size_weight = _obs[-(3-i)] / 10\n",
    "                        r += (distance_reward*size_weight)\n",
    "                        \n",
    "                        if not isChosen:\n",
    "                            isChosen = True\n",
    "                            optimized_choice_counter += 1\n",
    "            \n",
    "                if all(idx.size == 0 for idx in top_index):\n",
    "                    closest_distance = n_slotUsedTable - act\n",
    "                    distance_reward = (1.2-pow((closest_distance/10),0.1))/10\n",
    "                    r += distance_reward\n",
    "                else:\n",
    "                    total_choice_counter += 1\n",
    "                \n",
    "                \n",
    "            if isTraining:\n",
    "                RL.store_transition(_obs, act, r, obs)\n",
    "            \n",
    "            if r == 0:\n",
    "                repeat_chosen_counter += 1\n",
    "\n",
    "                \n",
    "        #if stepIdx % 10000 == 0:\n",
    "        #    print(\"Step: \", stepIdx)\n",
    "        \n",
    "        if (stepIdx > 5000) and (stepIdx % 5 == 0) and isTraining:\n",
    "            RL.learn()\n",
    "            \n",
    "        # swap observation\n",
    "        _obs = obs\n",
    "        \n",
    "        \n",
    "        if done or stepIdx == int(300/0.04*16):\n",
    "            print(\"Step: \", stepIdx)\n",
    "            print (\"done\")\n",
    "            print (\"Repeat_chosen_counter :\", repeat_chosen_counter)\n",
    "            \n",
    "            if isTraining:\n",
    "                RL.learn()\n",
    "                training_repeat_chosen.append(repeat_chosen_counter)\n",
    "            else:\n",
    "                testing_repeat_chosen.append(repeat_chosen_counter)\n",
    "            \n",
    "            if total_choice_counter != 0:\n",
    "                optimized_choice.append(optimized_choice_counter/total_choice_counter)\n",
    "            \n",
    "            break\n",
    "            \n",
    "        #break\n",
    "        \n"
   ]
  },
  {
   "cell_type": "code",
   "execution_count": 8,
   "metadata": {},
   "outputs": [
    {
     "data": {
      "image/png": "[encoded data removed]",
      "text/plain": [
       "<Figure size 432x288 with 1 Axes>"
      ]
     },
     "metadata": {
      "needs_background": "light"
     },
     "output_type": "display_data"
    },
    {
     "data": {
      "image/png": "[encoded data removed]",
      "text/plain": [
       "<Figure size 432x288 with 1 Axes>"
      ]
     },
     "metadata": {
      "needs_background": "light"
     },
     "output_type": "display_data"
    }
   ],
   "source": [
    "# step counter of each episode\n",
    "plt.plot(optimized_choice)\n",
    "plt.show()\n",
    "\n",
    "plt.plot(training_repeat_chosen)\n",
    "plt.show()"
   ]
  },
  {
   "cell_type": "code",
   "execution_count": null,
   "metadata": {},
   "outputs": [],
   "source": [
    "RL.plot_cost()"
   ]
  },
  {
   "cell_type": "code",
   "execution_count": null,
   "metadata": {},
   "outputs": [],
   "source": [
    "env.close()"
   ]
  },
  {
   "cell_type": "code",
   "execution_count": 9,
   "metadata": {},
   "outputs": [
    {
     "ename": "PermissionDeniedError",
     "evalue": "/workspace/model; Permission denied",
     "output_type": "error",
     "traceback": [
      "\u001b[0;31m\u001b[0m",
      "\u001b[0;31mPermissionDeniedError\u001b[0mTraceback (most recent call last)",
      "\u001b[0;32m<ipython-input-9-888e7dd282c6>\u001b[0m in \u001b[0;36m<module>\u001b[0;34m\u001b[0m\n\u001b[0;32m----> 1\u001b[0;31m \u001b[0meval_model\u001b[0m\u001b[0;34m.\u001b[0m\u001b[0msave\u001b[0m\u001b[0;34m(\u001b[0m\u001b[0;34m'/workspace/model/eval_model'\u001b[0m\u001b[0;34m,\u001b[0m \u001b[0msave_format\u001b[0m\u001b[0;34m=\u001b[0m\u001b[0;34m'tf'\u001b[0m\u001b[0;34m)\u001b[0m\u001b[0;34m\u001b[0m\u001b[0;34m\u001b[0m\u001b[0m\n\u001b[0m\u001b[1;32m      2\u001b[0m \u001b[0mtarget_model\u001b[0m\u001b[0;34m.\u001b[0m\u001b[0msave\u001b[0m\u001b[0;34m(\u001b[0m\u001b[0;34m'/workspace/model/target_model'\u001b[0m\u001b[0;34m,\u001b[0m \u001b[0msave_format\u001b[0m\u001b[0;34m=\u001b[0m\u001b[0;34m'tf'\u001b[0m\u001b[0;34m)\u001b[0m\u001b[0;34m\u001b[0m\u001b[0;34m\u001b[0m\u001b[0m\n",
      "\u001b[0;32m~usr/local/lib/python3.6/dist-packages/tensorflow/python/keras/engine/network.py\u001b[0m in \u001b[0;36msave\u001b[0;34m(self, filepath, overwrite, include_optimizer, save_format, signatures, options)\u001b[0m\n\u001b[1;32m   1055\u001b[0m     \"\"\"\n\u001b[1;32m   1056\u001b[0m     save.save_model(self, filepath, overwrite, include_optimizer, save_format,\n\u001b[0;32m-> 1057\u001b[0;31m                     signatures, options)\n\u001b[0m\u001b[1;32m   1058\u001b[0m \u001b[0;34m\u001b[0m\u001b[0m\n\u001b[1;32m   1059\u001b[0m   \u001b[0;32mdef\u001b[0m \u001b[0msave_weights\u001b[0m\u001b[0;34m(\u001b[0m\u001b[0mself\u001b[0m\u001b[0;34m,\u001b[0m \u001b[0mfilepath\u001b[0m\u001b[0;34m,\u001b[0m \u001b[0moverwrite\u001b[0m\u001b[0;34m=\u001b[0m\u001b[0;32mTrue\u001b[0m\u001b[0;34m,\u001b[0m \u001b[0msave_format\u001b[0m\u001b[0;34m=\u001b[0m\u001b[0;32mNone\u001b[0m\u001b[0;34m)\u001b[0m\u001b[0;34m:\u001b[0m\u001b[0;34m\u001b[0m\u001b[0;34m\u001b[0m\u001b[0m\n",
      "\u001b[0;32m~usr/local/lib/python3.6/dist-packages/tensorflow/python/keras/saving/save.py\u001b[0m in \u001b[0;36msave_model\u001b[0;34m(model, filepath, overwrite, include_optimizer, save_format, signatures, options)\u001b[0m\n\u001b[1;32m    136\u001b[0m   \u001b[0;32melse\u001b[0m\u001b[0;34m:\u001b[0m\u001b[0;34m\u001b[0m\u001b[0;34m\u001b[0m\u001b[0m\n\u001b[1;32m    137\u001b[0m     saved_model_save.save(model, filepath, overwrite, include_optimizer,\n\u001b[0;32m--> 138\u001b[0;31m                           signatures, options)\n\u001b[0m\u001b[1;32m    139\u001b[0m \u001b[0;34m\u001b[0m\u001b[0m\n\u001b[1;32m    140\u001b[0m \u001b[0;34m\u001b[0m\u001b[0m\n",
      "\u001b[0;32m~usr/local/lib/python3.6/dist-packages/tensorflow/python/keras/saving/saved_model/save.py\u001b[0m in \u001b[0;36msave\u001b[0;34m(model, filepath, overwrite, include_optimizer, signatures, options)\u001b[0m\n\u001b[1;32m     76\u001b[0m     \u001b[0;31m# we use the default replica context here.\u001b[0m\u001b[0;34m\u001b[0m\u001b[0;34m\u001b[0m\u001b[0;34m\u001b[0m\u001b[0m\n\u001b[1;32m     77\u001b[0m     \u001b[0;32mwith\u001b[0m \u001b[0mdistribution_strategy_context\u001b[0m\u001b[0;34m.\u001b[0m\u001b[0m_get_default_replica_context\u001b[0m\u001b[0;34m(\u001b[0m\u001b[0;34m)\u001b[0m\u001b[0;34m:\u001b[0m  \u001b[0;31m# pylint: disable=protected-access\u001b[0m\u001b[0;34m\u001b[0m\u001b[0;34m\u001b[0m\u001b[0m\n\u001b[0;32m---> 78\u001b[0;31m       \u001b[0msave_lib\u001b[0m\u001b[0;34m.\u001b[0m\u001b[0msave\u001b[0m\u001b[0;34m(\u001b[0m\u001b[0mmodel\u001b[0m\u001b[0;34m,\u001b[0m \u001b[0mfilepath\u001b[0m\u001b[0;34m,\u001b[0m \u001b[0msignatures\u001b[0m\u001b[0;34m,\u001b[0m \u001b[0moptions\u001b[0m\u001b[0;34m)\u001b[0m\u001b[0;34m\u001b[0m\u001b[0;34m\u001b[0m\u001b[0m\n\u001b[0m\u001b[1;32m     79\u001b[0m \u001b[0;34m\u001b[0m\u001b[0m\n\u001b[1;32m     80\u001b[0m   \u001b[0;32mif\u001b[0m \u001b[0;32mnot\u001b[0m \u001b[0minclude_optimizer\u001b[0m\u001b[0;34m:\u001b[0m\u001b[0;34m\u001b[0m\u001b[0;34m\u001b[0m\u001b[0m\n",
      "\u001b[0;32m~usr/local/lib/python3.6/dist-packages/tensorflow/python/saved_model/save.py\u001b[0m in \u001b[0;36msave\u001b[0;34m(obj, export_dir, signatures, options)\u001b[0m\n\u001b[1;32m    954\u001b[0m   \u001b[0;31m# Write the checkpoint, copy assets into the assets directory, and write out\u001b[0m\u001b[0;34m\u001b[0m\u001b[0;34m\u001b[0m\u001b[0;34m\u001b[0m\u001b[0m\n\u001b[1;32m    955\u001b[0m   \u001b[0;31m# the SavedModel proto itself.\u001b[0m\u001b[0;34m\u001b[0m\u001b[0;34m\u001b[0m\u001b[0;34m\u001b[0m\u001b[0m\n\u001b[0;32m--> 956\u001b[0;31m   \u001b[0mutils_impl\u001b[0m\u001b[0;34m.\u001b[0m\u001b[0mget_or_create_variables_dir\u001b[0m\u001b[0;34m(\u001b[0m\u001b[0mexport_dir\u001b[0m\u001b[0;34m)\u001b[0m\u001b[0;34m\u001b[0m\u001b[0;34m\u001b[0m\u001b[0m\n\u001b[0m\u001b[1;32m    957\u001b[0m   \u001b[0mobject_saver\u001b[0m\u001b[0;34m.\u001b[0m\u001b[0msave\u001b[0m\u001b[0;34m(\u001b[0m\u001b[0mutils_impl\u001b[0m\u001b[0;34m.\u001b[0m\u001b[0mget_variables_path\u001b[0m\u001b[0;34m(\u001b[0m\u001b[0mexport_dir\u001b[0m\u001b[0;34m)\u001b[0m\u001b[0;34m)\u001b[0m\u001b[0;34m\u001b[0m\u001b[0;34m\u001b[0m\u001b[0m\n\u001b[1;32m    958\u001b[0m   builder_impl.copy_assets_to_destination_dir(asset_info.asset_filename_map,\n",
      "\u001b[0;32m~usr/local/lib/python3.6/dist-packages/tensorflow/python/saved_model/utils_impl.py\u001b[0m in \u001b[0;36mget_or_create_variables_dir\u001b[0;34m(export_dir)\u001b[0m\n\u001b[1;32m    212\u001b[0m   \u001b[0mvariables_dir\u001b[0m \u001b[0;34m=\u001b[0m \u001b[0mget_variables_dir\u001b[0m\u001b[0;34m(\u001b[0m\u001b[0mexport_dir\u001b[0m\u001b[0;34m)\u001b[0m\u001b[0;34m\u001b[0m\u001b[0;34m\u001b[0m\u001b[0m\n\u001b[1;32m    213\u001b[0m   \u001b[0;32mif\u001b[0m \u001b[0;32mnot\u001b[0m \u001b[0mfile_io\u001b[0m\u001b[0;34m.\u001b[0m\u001b[0mfile_exists\u001b[0m\u001b[0;34m(\u001b[0m\u001b[0mvariables_dir\u001b[0m\u001b[0;34m)\u001b[0m\u001b[0;34m:\u001b[0m\u001b[0;34m\u001b[0m\u001b[0;34m\u001b[0m\u001b[0m\n\u001b[0;32m--> 214\u001b[0;31m     \u001b[0mfile_io\u001b[0m\u001b[0;34m.\u001b[0m\u001b[0mrecursive_create_dir\u001b[0m\u001b[0;34m(\u001b[0m\u001b[0mvariables_dir\u001b[0m\u001b[0;34m)\u001b[0m\u001b[0;34m\u001b[0m\u001b[0;34m\u001b[0m\u001b[0m\n\u001b[0m\u001b[1;32m    215\u001b[0m   \u001b[0;32mreturn\u001b[0m \u001b[0mvariables_dir\u001b[0m\u001b[0;34m\u001b[0m\u001b[0;34m\u001b[0m\u001b[0m\n\u001b[1;32m    216\u001b[0m \u001b[0;34m\u001b[0m\u001b[0m\n",
      "\u001b[0;32m~usr/local/lib/python3.6/dist-packages/tensorflow/python/lib/io/file_io.py\u001b[0m in \u001b[0;36mrecursive_create_dir\u001b[0;34m(dirname)\u001b[0m\n\u001b[1;32m    425\u001b[0m     \u001b[0merrors\u001b[0m\u001b[0;34m.\u001b[0m\u001b[0mOpError\u001b[0m\u001b[0;34m:\u001b[0m \u001b[0mIf\u001b[0m \u001b[0mthe\u001b[0m \u001b[0moperation\u001b[0m \u001b[0mfails\u001b[0m\u001b[0;34m.\u001b[0m\u001b[0;34m\u001b[0m\u001b[0;34m\u001b[0m\u001b[0m\n\u001b[1;32m    426\u001b[0m   \"\"\"\n\u001b[0;32m--> 427\u001b[0;31m   \u001b[0mrecursive_create_dir_v2\u001b[0m\u001b[0;34m(\u001b[0m\u001b[0mdirname\u001b[0m\u001b[0;34m)\u001b[0m\u001b[0;34m\u001b[0m\u001b[0;34m\u001b[0m\u001b[0m\n\u001b[0m\u001b[1;32m    428\u001b[0m \u001b[0;34m\u001b[0m\u001b[0m\n\u001b[1;32m    429\u001b[0m \u001b[0;34m\u001b[0m\u001b[0m\n",
      "\u001b[0;32m~usr/local/lib/python3.6/dist-packages/tensorflow/python/lib/io/file_io.py\u001b[0m in \u001b[0;36mrecursive_create_dir_v2\u001b[0;34m(path)\u001b[0m\n\u001b[1;32m    440\u001b[0m     \u001b[0merrors\u001b[0m\u001b[0;34m.\u001b[0m\u001b[0mOpError\u001b[0m\u001b[0;34m:\u001b[0m \u001b[0mIf\u001b[0m \u001b[0mthe\u001b[0m \u001b[0moperation\u001b[0m \u001b[0mfails\u001b[0m\u001b[0;34m.\u001b[0m\u001b[0;34m\u001b[0m\u001b[0;34m\u001b[0m\u001b[0m\n\u001b[1;32m    441\u001b[0m   \"\"\"\n\u001b[0;32m--> 442\u001b[0;31m   \u001b[0m_pywrap_file_io\u001b[0m\u001b[0;34m.\u001b[0m\u001b[0mRecursivelyCreateDir\u001b[0m\u001b[0;34m(\u001b[0m\u001b[0mcompat\u001b[0m\u001b[0;34m.\u001b[0m\u001b[0mas_bytes\u001b[0m\u001b[0;34m(\u001b[0m\u001b[0mpath\u001b[0m\u001b[0;34m)\u001b[0m\u001b[0;34m)\u001b[0m\u001b[0;34m\u001b[0m\u001b[0;34m\u001b[0m\u001b[0m\n\u001b[0m\u001b[1;32m    443\u001b[0m \u001b[0;34m\u001b[0m\u001b[0m\n\u001b[1;32m    444\u001b[0m \u001b[0;34m\u001b[0m\u001b[0m\n",
      "\u001b[0;31mPermissionDeniedError\u001b[0m: /workspace/model; Permission denied"
     ]
    }
   ],
   "source": [
    "eval_model.save('/workspace/model/eval_model', save_format='tf')\n",
    "target_model.save('/workspace/model/target_model', save_format='tf')"
   ]
  },
  {
   "cell_type": "code",
   "execution_count": null,
   "metadata": {},
   "outputs": [],
   "source": []
  }
 ],
 "metadata": {
  "kernelspec": {
   "display_name": "Python 3",
   "language": "python",
   "name": "python3"
  },
  "language_info": {
   "codemirror_mode": {
    "name": "ipython",
    "version": 3
   },
   "file_extension": ".py",
   "mimetype": "text/x-python",
   "name": "python",
   "nbconvert_exporter": "python",
   "pygments_lexer": "ipython3",
   "version": "3.6.9"
  }
 },
 "nbformat": 4,
 "nbformat_minor": 2
}
